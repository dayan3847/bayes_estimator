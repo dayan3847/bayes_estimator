{
 "cells": [
  {
   "cell_type": "markdown",
   "source": [
    "# Bayes Estimator\n",
    "\n",
    "### <font color='orange'>Universidad Autónoma de Yucatán</font> _Facultad de Matemáticas_\n",
    "\n",
    "**Teacher:** Dr. Arturo Espinosa Romero <[eromero@correo.uady.mx](mailto:eromero@correo.uady.mx)>\n",
    "\n",
    "**Student:** Ing. Dayan Bravo Fraga <[dayan3847@gmail.com](mailto:dayan3847@gmail.com)>"
   ],
   "metadata": {
    "collapsed": false
   },
   "id": "ed9bbe81d80c6b43"
  },
  {
   "cell_type": "markdown",
   "source": [
    "# Practice 5: Extended Kalman Filter for Ball Tracking\n",
    "\n",
    "## GitHub: [Practice 5](https://github.com/dayan3847/bayes_estimator/tree/main/practice5-ball_tracking)"
   ],
   "metadata": {
    "collapsed": false
   },
   "id": "bf1ec2e0b4db437e"
  },
  {
   "cell_type": "code",
   "execution_count": 1,
   "id": "initial_id",
   "metadata": {
    "collapsed": true,
    "ExecuteTime": {
     "end_time": "2023-11-28T18:34:45.520197018Z",
     "start_time": "2023-11-28T18:34:44.623529418Z"
    }
   },
   "outputs": [],
   "source": [
    "import sympy as sp\n",
    "import numpy as np"
   ]
  },
  {
   "cell_type": "code",
   "execution_count": 9,
   "outputs": [],
   "source": [
    "t = sp.symbols('t')"
   ],
   "metadata": {
    "collapsed": false,
    "ExecuteTime": {
     "end_time": "2023-11-28T18:39:28.080171813Z",
     "start_time": "2023-11-28T18:39:28.073192453Z"
    }
   },
   "id": "541130a7095e1ccf"
  },
  {
   "cell_type": "code",
   "execution_count": 19,
   "outputs": [
    {
     "data": {
      "text/plain": "X(t)",
      "text/latex": "$\\displaystyle X{\\left(t \\right)}$"
     },
     "execution_count": 19,
     "metadata": {},
     "output_type": "execute_result"
    }
   ],
   "source": [
    "# funcion generica que depende de t\n",
    "X = sp.Function('X')(t)\n",
    "X"
   ],
   "metadata": {
    "collapsed": false,
    "ExecuteTime": {
     "end_time": "2023-11-28T18:52:41.606996366Z",
     "start_time": "2023-11-28T18:52:41.566148884Z"
    }
   },
   "id": "14bb8f5126a77692"
  },
  {
   "cell_type": "code",
   "execution_count": 22,
   "outputs": [
    {
     "data": {
      "text/plain": "Z(t)",
      "text/latex": "$\\displaystyle Z{\\left(t \\right)}$"
     },
     "execution_count": 22,
     "metadata": {},
     "output_type": "execute_result"
    }
   ],
   "source": [
    "# funcion generica que depende de t\n",
    "Z = sp.Function('Z')(t)\n",
    "Z"
   ],
   "metadata": {
    "collapsed": false,
    "ExecuteTime": {
     "end_time": "2023-11-28T18:53:19.415126538Z",
     "start_time": "2023-11-28T18:53:19.374289964Z"
    }
   },
   "id": "9ba1d1ec2bf4e53f"
  },
  {
   "cell_type": "code",
   "execution_count": 23,
   "outputs": [
    {
     "data": {
      "text/plain": "-X(t)*Derivative(Z(t), t)/Z(t)**2 + Derivative(X(t), t)/Z(t)",
      "text/latex": "$\\displaystyle - \\frac{X{\\left(t \\right)} \\frac{d}{d t} Z{\\left(t \\right)}}{Z^{2}{\\left(t \\right)}} + \\frac{\\frac{d}{d t} X{\\left(t \\right)}}{Z{\\left(t \\right)}}$"
     },
     "execution_count": 23,
     "metadata": {},
     "output_type": "execute_result"
    }
   ],
   "source": [
    "# derivative de una funcion (fraccion)\n",
    "fp = sp.diff(X/Z, t, evaluate=True)\n",
    "fp"
   ],
   "metadata": {
    "collapsed": false,
    "ExecuteTime": {
     "end_time": "2023-11-28T18:53:24.347533605Z",
     "start_time": "2023-11-28T18:53:24.331302231Z"
    }
   },
   "id": "44e664c613742cd2"
  },
  {
   "cell_type": "code",
   "execution_count": null,
   "outputs": [],
   "source": [
    "# @title Funcion h\n",
    "R_real = sp.symbols('Rr')\n",
    "h_x_ = sp.Matrix([\n",
    "    [X / Z],\n",
    "    [Y / Z],\n",
    "    [(Xp + x * Zp) / Z],\n",
    "    [(Yp + y * Zp) / Z],\n",
    "    [R_real / Z],\n",
    "])\n",
    "sp.Eq(sp.Function('h')(sp.Symbol('\\mathbb{X}')), h_x_, evaluate=False)"
   ],
   "metadata": {
    "collapsed": false
   },
   "id": "681c0ad2526f310c"
  }
 ],
 "metadata": {
  "kernelspec": {
   "display_name": "Python 3",
   "language": "python",
   "name": "python3"
  },
  "language_info": {
   "codemirror_mode": {
    "name": "ipython",
    "version": 2
   },
   "file_extension": ".py",
   "mimetype": "text/x-python",
   "name": "python",
   "nbconvert_exporter": "python",
   "pygments_lexer": "ipython2",
   "version": "2.7.6"
  }
 },
 "nbformat": 4,
 "nbformat_minor": 5
}
