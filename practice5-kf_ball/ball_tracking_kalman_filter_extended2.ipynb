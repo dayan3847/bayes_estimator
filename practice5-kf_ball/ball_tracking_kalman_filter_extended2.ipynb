{
 "cells": [
  {
   "cell_type": "markdown",
   "source": [
    "# Bayes Estimator\n",
    "\n",
    "### <font color='orange'>Universidad Autónoma de Yucatán</font> _Facultad de Matemáticas_\n",
    "\n",
    "**Teacher:** Dr. Arturo Espinosa Romero <[eromero@correo.uady.mx](mailto:eromero@correo.uady.mx)>\n",
    "\n",
    "**Student:** Ing. Dayan Bravo Fraga <[dayan3847@gmail.com](mailto:dayan3847@gmail.com)>"
   ],
   "metadata": {
    "collapsed": false
   },
   "id": "ed9bbe81d80c6b43"
  },
  {
   "cell_type": "markdown",
   "source": [
    "# Practice 5: Extended Kalman Filter for Ball Tracking\n",
    "\n",
    "## GitHub: [Practice 5](https://github.com/dayan3847/bayes_estimator/tree/main/practice5-ball_tracking)"
   ],
   "metadata": {
    "collapsed": false
   },
   "id": "bf1ec2e0b4db437e"
  },
  {
   "cell_type": "code",
   "execution_count": 12,
   "id": "initial_id",
   "metadata": {
    "collapsed": true,
    "ExecuteTime": {
     "end_time": "2023-11-29T08:19:38.489986602Z",
     "start_time": "2023-11-29T08:19:38.444762850Z"
    }
   },
   "outputs": [],
   "source": [
    "import sympy as sp\n",
    "import numpy as np"
   ]
  },
  {
   "cell_type": "code",
   "execution_count": 13,
   "outputs": [
    {
     "data": {
      "text/plain": "Eq(\\mathbb{X}, Matrix([\n[       X],\n[       Y],\n[       Z],\n[ \\dot{X}],\n[ \\dot{Y}],\n[ \\dot{Z}],\n[\\ddot{X}],\n[\\ddot{Y}],\n[\\ddot{Z}]]))",
      "text/latex": "$\\displaystyle \\mathbb{X} = \\left[\\begin{matrix}X\\\\Y\\\\Z\\\\\\dot{X}\\\\\\dot{Y}\\\\\\dot{Z}\\\\\\ddot{X}\\\\\\ddot{Y}\\\\\\ddot{Z}\\end{matrix}\\right]$"
     },
     "execution_count": 13,
     "metadata": {},
     "output_type": "execute_result"
    }
   ],
   "source": [
    "#@title Estado de sistema\n",
    "X, Y, Z, = sp.symbols('X Y Z')\n",
    "dX, dY, dZ = sp.symbols('\\dot{X} \\dot{Y} \\dot{Z}')\n",
    "ddX, ddY, ddZ = sp.symbols('\\ddot{X} \\ddot{Y} \\ddot{Z}')\n",
    "# El estado esta compuesto por las coordenadas reales y las velocidades\n",
    "XX = sp.Matrix([\n",
    "    [X],\n",
    "    [Y],\n",
    "    [Z],\n",
    "    [dX],\n",
    "    [dY],\n",
    "    [dZ],\n",
    "    [ddX],\n",
    "    [ddY],\n",
    "    [ddZ],\n",
    "])\n",
    "\n",
    "sp.Eq(sp.Symbol('\\mathbb{X}'), XX, evaluate=False)"
   ],
   "metadata": {
    "collapsed": false,
    "ExecuteTime": {
     "end_time": "2023-11-29T08:19:39.412148287Z",
     "start_time": "2023-11-29T08:19:39.396056047Z"
    }
   },
   "id": "edb2129f8d20cffb"
  },
  {
   "cell_type": "code",
   "execution_count": 14,
   "outputs": [
    {
     "data": {
      "text/plain": "Eq(\\mathbb{A}, Matrix([\n[1, 0, 0, \\Delta t,        0,        0, \\Delta t**2/2,             0,             0],\n[0, 1, 0,        0, \\Delta t,        0,             0, \\Delta t**2/2,             0],\n[0, 0, 1,        0,        0, \\Delta t,             0,             0, \\Delta t**2/2],\n[0, 0, 0,        1,        0,        0,      \\Delta t,             0,             0],\n[0, 0, 0,        0,        1,        0,             0,      \\Delta t,             0],\n[0, 0, 0,        0,        0,        1,             0,             0,      \\Delta t],\n[0, 0, 0,        0,        0,        0,             1,             0,             0],\n[0, 0, 0,        0,        0,        0,             0,             1,             0],\n[0, 0, 0,        0,        0,        0,             0,             0,             1]]))",
      "text/latex": "$\\displaystyle \\mathbb{A} = \\left[\\begin{matrix}1 & 0 & 0 & \\Delta t & 0 & 0 & \\frac{\\Delta t^{2}}{2} & 0 & 0\\\\0 & 1 & 0 & 0 & \\Delta t & 0 & 0 & \\frac{\\Delta t^{2}}{2} & 0\\\\0 & 0 & 1 & 0 & 0 & \\Delta t & 0 & 0 & \\frac{\\Delta t^{2}}{2}\\\\0 & 0 & 0 & 1 & 0 & 0 & \\Delta t & 0 & 0\\\\0 & 0 & 0 & 0 & 1 & 0 & 0 & \\Delta t & 0\\\\0 & 0 & 0 & 0 & 0 & 1 & 0 & 0 & \\Delta t\\\\0 & 0 & 0 & 0 & 0 & 0 & 1 & 0 & 0\\\\0 & 0 & 0 & 0 & 0 & 0 & 0 & 1 & 0\\\\0 & 0 & 0 & 0 & 0 & 0 & 0 & 0 & 1\\end{matrix}\\right]$"
     },
     "execution_count": 14,
     "metadata": {},
     "output_type": "execute_result"
    }
   ],
   "source": [
    "#@title Matriz A \"transitionMatrix\"\n",
    "dt = sp.Symbol('\\Delta t')\n",
    "dt2_2 = dt ** 2 / 2\n",
    "# Esta seria la matrix de transformacion de estado\n",
    "AA = sp.Matrix([\n",
    "    [1, 0, 0, dt, 0, 0, dt2_2, 0, 0],\n",
    "    [0, 1, 0, 0, dt, 0, 0, dt2_2, 0],\n",
    "    [0, 0, 1, 0, 0, dt, 0, 0, dt2_2],\n",
    "    [0, 0, 0, 1, 0, 0, dt, 0, 0],\n",
    "    [0, 0, 0, 0, 1, 0, 0, dt, 0],\n",
    "    [0, 0, 0, 0, 0, 1, 0, 0, dt],\n",
    "    [0, 0, 0, 0, 0, 0, 1, 0, 0],\n",
    "    [0, 0, 0, 0, 0, 0, 0, 1, 0],\n",
    "    [0, 0, 0, 0, 0, 0, 0, 0, 1],\n",
    "])\n",
    "sp.Eq(sp.Symbol('\\mathbb{A}'), AA, evaluate=False)"
   ],
   "metadata": {
    "collapsed": false,
    "ExecuteTime": {
     "end_time": "2023-11-29T08:19:54.044329350Z",
     "start_time": "2023-11-29T08:19:54.016551040Z"
    }
   },
   "id": "1b01191bc97074a7"
  },
  {
   "cell_type": "code",
   "execution_count": 15,
   "outputs": [
    {
     "data": {
      "text/plain": "Eq(\\mathbb{Z}, Matrix([\n[       x],\n[       y],\n[       r],\n[ \\dot{x}],\n[ \\dot{y}],\n[ \\dot{r}],\n[\\ddot{x}],\n[\\ddot{y}],\n[\\ddot{r}]]))",
      "text/latex": "$\\displaystyle \\mathbb{Z} = \\left[\\begin{matrix}x\\\\y\\\\r\\\\\\dot{x}\\\\\\dot{y}\\\\\\dot{r}\\\\\\ddot{x}\\\\\\ddot{y}\\\\\\ddot{r}\\end{matrix}\\right]$"
     },
     "execution_count": 15,
     "metadata": {},
     "output_type": "execute_result"
    }
   ],
   "source": [
    "#@title \"Z\" Medicion\n",
    "x, y, r = sp.symbols('x y r')\n",
    "dx, dy, dr = sp.symbols('\\dot{x} \\dot{y} \\dot{r}')\n",
    "ddx, ddy, ddr = sp.symbols('\\ddot{x} \\ddot{y} \\ddot{r}')\n",
    "# La medicion esta compuesta por las coordenadas de la camara y el tamanno del radio (en metros)\n",
    "ZZ = sp.Matrix([\n",
    "    [x],\n",
    "    [y],\n",
    "    [r],\n",
    "    [dx],\n",
    "    [dy],\n",
    "    [dr],\n",
    "    [ddx],\n",
    "    [ddy],\n",
    "    [ddr],\n",
    "])\n",
    "sp.Eq(sp.Symbol('\\mathbb{Z}'), ZZ, evaluate=False)"
   ],
   "metadata": {
    "collapsed": false,
    "ExecuteTime": {
     "end_time": "2023-11-29T08:21:44.310304778Z",
     "start_time": "2023-11-29T08:21:44.267111774Z"
    }
   },
   "id": "f3586723de42042"
  },
  {
   "cell_type": "code",
   "execution_count": 16,
   "outputs": [
    {
     "data": {
      "text/plain": "Eq(h(\\mathbb{X}), Matrix([\n[                                                                  X/Z],\n[                                                                  Y/Z],\n[                                                                 Rm/Z],\n[                                          -X*\\dot{Z}/Z**2 + \\dot{X}/Z],\n[                                          -Y*\\dot{Z}/Z**2 + \\dot{Y}/Z],\n[                                                     -Rm*\\dot{Z}/Z**2],\n[(-X*(\\ddot{Z} - 2*\\dot{Z}**2/Z)/Z + \\ddot{X} - 2*\\dot{X}*\\dot{Z}/Z)/Z],\n[(-Y*(\\ddot{Z} - 2*\\dot{Z}**2/Z)/Z + \\ddot{Y} - 2*\\dot{Y}*\\dot{Z}/Z)/Z],\n[                                 -Rm*(\\ddot{Z} - 2*\\dot{Z}**2/Z)/Z**2]]))",
      "text/latex": "$\\displaystyle h{\\left(\\mathbb{X} \\right)} = \\left[\\begin{matrix}\\frac{X}{Z}\\\\\\frac{Y}{Z}\\\\\\frac{Rm}{Z}\\\\- \\frac{X \\dot{Z}}{Z^{2}} + \\frac{\\dot{X}}{Z}\\\\- \\frac{Y \\dot{Z}}{Z^{2}} + \\frac{\\dot{Y}}{Z}\\\\- \\frac{Rm \\dot{Z}}{Z^{2}}\\\\\\frac{- \\frac{X \\left(\\ddot{Z} - \\frac{2 \\dot{Z}^{2}}{Z}\\right)}{Z} + \\ddot{X} - \\frac{2 \\dot{X} \\dot{Z}}{Z}}{Z}\\\\\\frac{- \\frac{Y \\left(\\ddot{Z} - \\frac{2 \\dot{Z}^{2}}{Z}\\right)}{Z} + \\ddot{Y} - \\frac{2 \\dot{Y} \\dot{Z}}{Z}}{Z}\\\\- \\frac{Rm \\left(\\ddot{Z} - \\frac{2 \\dot{Z}^{2}}{Z}\\right)}{Z^{2}}\\end{matrix}\\right]$"
     },
     "execution_count": 16,
     "metadata": {},
     "output_type": "execute_result"
    }
   ],
   "source": [
    "# @title Funcion h\n",
    "Rm = sp.Symbol('Rm')  # Radio real de la pelota en metros\n",
    "h_x = sp.Matrix([\n",
    "    [X / Z],  # x\n",
    "    [Y / Z],  # y\n",
    "    [Rm / Z],  # r\n",
    "    [-X * dZ / Z ** 2 + dX / Z],  # dx\n",
    "    [-Y * dZ / Z ** 2 + dY / Z],  # dy\n",
    "    [-Rm * dZ / Z ** 2],  # dr\n",
    "    [(-X * (ddZ - 2 * dZ ** 2 / Z) / Z + ddX - 2 * dX * dZ / Z) / Z],  # ddx\n",
    "    [(-Y * (ddZ - 2 * dZ ** 2 / Z) / Z + ddY - 2 * dY * dZ / Z) / Z],  # ddy\n",
    "    [-Rm * (ddZ - 2 * dZ ** 2 / Z) / Z ** 2],  # dr\n",
    "])\n",
    "sp.Eq(sp.Function('h')(sp.Symbol('\\mathbb{X}')), h_x, evaluate=False)"
   ],
   "metadata": {
    "collapsed": false,
    "ExecuteTime": {
     "end_time": "2023-11-29T08:27:03.114564151Z",
     "start_time": "2023-11-29T08:27:03.073420514Z"
    }
   },
   "id": "6b2322099e44c260"
  },
  {
   "cell_type": "code",
   "execution_count": 17,
   "outputs": [
    {
     "data": {
      "text/plain": "Eq(\\mathbb{H}x, Matrix([\n[                              1/Z,                                 0,                                                                                                                                                          -X/Z**2,               0,               0,                                  0,   0,   0,        0],\n[                                0,                               1/Z,                                                                                                                                                          -Y/Z**2,               0,               0,                                  0,   0,   0,        0],\n[                                0,                                 0,                                                                                                                                                         -Rm/Z**2,               0,               0,                                  0,   0,   0,        0],\n[                    -\\dot{Z}/Z**2,                                 0,                                                                                                                                  2*X*\\dot{Z}/Z**3 - \\dot{X}/Z**2,             1/Z,               0,                            -X/Z**2,   0,   0,        0],\n[                                0,                     -\\dot{Z}/Z**2,                                                                                                                                  2*Y*\\dot{Z}/Z**3 - \\dot{Y}/Z**2,               0,             1/Z,                            -Y/Z**2,   0,   0,        0],\n[                                0,                                 0,                                                                                                                                                2*Rm*\\dot{Z}/Z**3,               0,               0,                           -Rm/Z**2,   0,   0,        0],\n[-(\\ddot{Z} - 2*\\dot{Z}**2/Z)/Z**2,                                 0, (X*(\\ddot{Z} - 2*\\dot{Z}**2/Z)/Z**2 - 2*X*\\dot{Z}**2/Z**3 + 2*\\dot{X}*\\dot{Z}/Z**2)/Z - (-X*(\\ddot{Z} - 2*\\dot{Z}**2/Z)/Z + \\ddot{X} - 2*\\dot{X}*\\dot{Z}/Z)/Z**2, -2*\\dot{Z}/Z**2,               0, (4*X*\\dot{Z}/Z**2 - 2*\\dot{X}/Z)/Z, 1/Z,   0,  -X/Z**2],\n[                                0, -(\\ddot{Z} - 2*\\dot{Z}**2/Z)/Z**2, (Y*(\\ddot{Z} - 2*\\dot{Z}**2/Z)/Z**2 - 2*Y*\\dot{Z}**2/Z**3 + 2*\\dot{Y}*\\dot{Z}/Z**2)/Z - (-Y*(\\ddot{Z} - 2*\\dot{Z}**2/Z)/Z + \\ddot{Y} - 2*\\dot{Y}*\\dot{Z}/Z)/Z**2,               0, -2*\\dot{Z}/Z**2, (4*Y*\\dot{Z}/Z**2 - 2*\\dot{Y}/Z)/Z,   0, 1/Z,  -Y/Z**2],\n[                                0,                                 0,                                                                                                     2*Rm*(\\ddot{Z} - 2*\\dot{Z}**2/Z)/Z**3 - 2*Rm*\\dot{Z}**2/Z**4,               0,               0,                  4*Rm*\\dot{Z}/Z**3,   0,   0, -Rm/Z**2]]))",
      "text/latex": "$\\displaystyle \\mathbb{H}x = \\left[\\begin{matrix}\\frac{1}{Z} & 0 & - \\frac{X}{Z^{2}} & 0 & 0 & 0 & 0 & 0 & 0\\\\0 & \\frac{1}{Z} & - \\frac{Y}{Z^{2}} & 0 & 0 & 0 & 0 & 0 & 0\\\\0 & 0 & - \\frac{Rm}{Z^{2}} & 0 & 0 & 0 & 0 & 0 & 0\\\\- \\frac{\\dot{Z}}{Z^{2}} & 0 & \\frac{2 X \\dot{Z}}{Z^{3}} - \\frac{\\dot{X}}{Z^{2}} & \\frac{1}{Z} & 0 & - \\frac{X}{Z^{2}} & 0 & 0 & 0\\\\0 & - \\frac{\\dot{Z}}{Z^{2}} & \\frac{2 Y \\dot{Z}}{Z^{3}} - \\frac{\\dot{Y}}{Z^{2}} & 0 & \\frac{1}{Z} & - \\frac{Y}{Z^{2}} & 0 & 0 & 0\\\\0 & 0 & \\frac{2 Rm \\dot{Z}}{Z^{3}} & 0 & 0 & - \\frac{Rm}{Z^{2}} & 0 & 0 & 0\\\\- \\frac{\\ddot{Z} - \\frac{2 \\dot{Z}^{2}}{Z}}{Z^{2}} & 0 & \\frac{\\frac{X \\left(\\ddot{Z} - \\frac{2 \\dot{Z}^{2}}{Z}\\right)}{Z^{2}} - \\frac{2 X \\dot{Z}^{2}}{Z^{3}} + \\frac{2 \\dot{X} \\dot{Z}}{Z^{2}}}{Z} - \\frac{- \\frac{X \\left(\\ddot{Z} - \\frac{2 \\dot{Z}^{2}}{Z}\\right)}{Z} + \\ddot{X} - \\frac{2 \\dot{X} \\dot{Z}}{Z}}{Z^{2}} & - \\frac{2 \\dot{Z}}{Z^{2}} & 0 & \\frac{\\frac{4 X \\dot{Z}}{Z^{2}} - \\frac{2 \\dot{X}}{Z}}{Z} & \\frac{1}{Z} & 0 & - \\frac{X}{Z^{2}}\\\\0 & - \\frac{\\ddot{Z} - \\frac{2 \\dot{Z}^{2}}{Z}}{Z^{2}} & \\frac{\\frac{Y \\left(\\ddot{Z} - \\frac{2 \\dot{Z}^{2}}{Z}\\right)}{Z^{2}} - \\frac{2 Y \\dot{Z}^{2}}{Z^{3}} + \\frac{2 \\dot{Y} \\dot{Z}}{Z^{2}}}{Z} - \\frac{- \\frac{Y \\left(\\ddot{Z} - \\frac{2 \\dot{Z}^{2}}{Z}\\right)}{Z} + \\ddot{Y} - \\frac{2 \\dot{Y} \\dot{Z}}{Z}}{Z^{2}} & 0 & - \\frac{2 \\dot{Z}}{Z^{2}} & \\frac{\\frac{4 Y \\dot{Z}}{Z^{2}} - \\frac{2 \\dot{Y}}{Z}}{Z} & 0 & \\frac{1}{Z} & - \\frac{Y}{Z^{2}}\\\\0 & 0 & \\frac{2 Rm \\left(\\ddot{Z} - \\frac{2 \\dot{Z}^{2}}{Z}\\right)}{Z^{3}} - \\frac{2 Rm \\dot{Z}^{2}}{Z^{4}} & 0 & 0 & \\frac{4 Rm \\dot{Z}}{Z^{3}} & 0 & 0 & - \\frac{Rm}{Z^{2}}\\end{matrix}\\right]$"
     },
     "execution_count": 17,
     "metadata": {},
     "output_type": "execute_result"
    }
   ],
   "source": [
    "# @title Matriz H es el Jacobian de h respecto al estado\n",
    "HH = h_x.jacobian(XX)\n",
    "sp.Eq(sp.Symbol('\\mathbb{H}x'), HH, evaluate=False)"
   ],
   "metadata": {
    "collapsed": false,
    "ExecuteTime": {
     "end_time": "2023-11-29T08:27:28.464744153Z",
     "start_time": "2023-11-29T08:27:28.391895134Z"
    }
   },
   "id": "c1bd23cc78e6fb07"
  },
  {
   "cell_type": "code",
   "execution_count": 20,
   "outputs": [
    {
     "data": {
      "text/plain": "(X*(\\ddot{Z} - 2*\\dot{Z}**2/Z)/Z**2 - 2*X*\\dot{Z}**2/Z**3 + 2*\\dot{X}*\\dot{Z}/Z**2)/Z - (-X*(\\ddot{Z} - 2*\\dot{Z}**2/Z)/Z + \\ddot{X} - 2*\\dot{X}*\\dot{Z}/Z)/Z**2",
      "text/latex": "$\\displaystyle \\frac{\\frac{X \\left(\\ddot{Z} - \\frac{2 \\dot{Z}^{2}}{Z}\\right)}{Z^{2}} - \\frac{2 X \\dot{Z}^{2}}{Z^{3}} + \\frac{2 \\dot{X} \\dot{Z}}{Z^{2}}}{Z} - \\frac{- \\frac{X \\left(\\ddot{Z} - \\frac{2 \\dot{Z}^{2}}{Z}\\right)}{Z} + \\ddot{X} - \\frac{2 \\dot{X} \\dot{Z}}{Z}}{Z^{2}}$"
     },
     "execution_count": 20,
     "metadata": {},
     "output_type": "execute_result"
    }
   ],
   "source": [
    "HH[6, 2]"
   ],
   "metadata": {
    "collapsed": false,
    "ExecuteTime": {
     "end_time": "2023-11-29T08:28:45.517561195Z",
     "start_time": "2023-11-29T08:28:45.470844840Z"
    }
   },
   "id": "4720ba3f019d51d9"
  },
  {
   "cell_type": "code",
   "execution_count": null,
   "outputs": [],
   "source": [],
   "metadata": {
    "collapsed": false
   },
   "id": "cd3a20d68fadadd2"
  }
 ],
 "metadata": {
  "kernelspec": {
   "display_name": "Python 3",
   "language": "python",
   "name": "python3"
  },
  "language_info": {
   "codemirror_mode": {
    "name": "ipython",
    "version": 2
   },
   "file_extension": ".py",
   "mimetype": "text/x-python",
   "name": "python",
   "nbconvert_exporter": "python",
   "pygments_lexer": "ipython2",
   "version": "2.7.6"
  }
 },
 "nbformat": 4,
 "nbformat_minor": 5
}
