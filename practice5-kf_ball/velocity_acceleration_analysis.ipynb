{
 "cells": [
  {
   "cell_type": "markdown",
   "source": [
    "# Bayes Estimator\n",
    "\n",
    "### <font color='orange'>Universidad Autónoma de Yucatán</font> _Facultad de Matemáticas_\n",
    "\n",
    "**Teacher:** Dr. Arturo Espinosa Romero <[eromero@correo.uady.mx](mailto:eromero@correo.uady.mx)>\n",
    "\n",
    "**Student:** Ing. Dayan Bravo Fraga <[dayan3847@gmail.com](mailto:dayan3847@gmail.com)>"
   ],
   "metadata": {
    "collapsed": false
   },
   "id": "ed9bbe81d80c6b43"
  },
  {
   "cell_type": "markdown",
   "source": [
    "# Velocity and Acceleration Analysis"
   ],
   "metadata": {
    "collapsed": false
   },
   "id": "bf1ec2e0b4db437e"
  },
  {
   "cell_type": "code",
   "execution_count": 38,
   "id": "initial_id",
   "metadata": {
    "collapsed": true,
    "ExecuteTime": {
     "end_time": "2023-11-28T20:54:59.917720440Z",
     "start_time": "2023-11-28T20:54:59.903126190Z"
    }
   },
   "outputs": [],
   "source": [
    "import sympy as sp\n",
    "import numpy as np"
   ]
  },
  {
   "cell_type": "code",
   "execution_count": 39,
   "outputs": [],
   "source": [
    "t = sp.Symbol('t')"
   ],
   "metadata": {
    "collapsed": false,
    "ExecuteTime": {
     "end_time": "2023-11-28T20:55:00.508232254Z",
     "start_time": "2023-11-28T20:55:00.498465804Z"
    }
   },
   "id": "f1c9af77aca93ac5"
  },
  {
   "cell_type": "code",
   "execution_count": 40,
   "outputs": [
    {
     "data": {
      "text/plain": "x(t)",
      "text/latex": "$\\displaystyle x{\\left(t \\right)}$"
     },
     "execution_count": 40,
     "metadata": {},
     "output_type": "execute_result"
    }
   ],
   "source": [
    "# Definimos a x (de la medicion) como funcion de t\n",
    "x = sp.Function('x')(t)\n",
    "x"
   ],
   "metadata": {
    "collapsed": false,
    "ExecuteTime": {
     "end_time": "2023-11-28T20:55:01.427627490Z",
     "start_time": "2023-11-28T20:55:01.418406903Z"
    }
   },
   "id": "9e32d36d77fc9e16"
  },
  {
   "cell_type": "code",
   "execution_count": 41,
   "outputs": [
    {
     "data": {
      "text/plain": "Matrix([\n[X(t)],\n[Z(t)]])",
      "text/latex": "$\\displaystyle \\left[\\begin{matrix}X{\\left(t \\right)}\\\\Z{\\left(t \\right)}\\end{matrix}\\right]$"
     },
     "execution_count": 41,
     "metadata": {},
     "output_type": "execute_result"
    }
   ],
   "source": [
    "# Definimos a X y Z como funciones de t\n",
    "X = sp.Function('X')(t)\n",
    "Z = sp.Function('Z')(t)\n",
    "sp.Matrix([X, Z])"
   ],
   "metadata": {
    "collapsed": false,
    "ExecuteTime": {
     "end_time": "2023-11-28T20:55:03.363510487Z",
     "start_time": "2023-11-28T20:55:03.349055435Z"
    }
   },
   "id": "4214fa306e120b7"
  },
  {
   "cell_type": "code",
   "execution_count": 42,
   "outputs": [
    {
     "data": {
      "text/plain": "Eq(x(t), X(t)/Z(t))",
      "text/latex": "$\\displaystyle x{\\left(t \\right)} = \\frac{X{\\left(t \\right)}}{Z{\\left(t \\right)}}$"
     },
     "execution_count": 42,
     "metadata": {},
     "output_type": "execute_result"
    }
   ],
   "source": [
    "# Sabemos que:\n",
    "x = X / Z\n",
    "sp.Eq(sp.Function('x')(t), x, evaluate=False)"
   ],
   "metadata": {
    "collapsed": false,
    "ExecuteTime": {
     "end_time": "2023-11-28T20:55:09.751485631Z",
     "start_time": "2023-11-28T20:55:09.712988241Z"
    }
   },
   "id": "edb2129f8d20cffb"
  },
  {
   "cell_type": "code",
   "execution_count": 43,
   "outputs": [
    {
     "data": {
      "text/plain": "Eq(Derivative(x(t), t), -X(t)*Derivative(Z(t), t)/Z(t)**2 + Derivative(X(t), t)/Z(t))",
      "text/latex": "$\\displaystyle \\frac{d}{d t} x{\\left(t \\right)} = - \\frac{X{\\left(t \\right)} \\frac{d}{d t} Z{\\left(t \\right)}}{Z^{2}{\\left(t \\right)}} + \\frac{\\frac{d}{d t} X{\\left(t \\right)}}{Z{\\left(t \\right)}}$"
     },
     "execution_count": 43,
     "metadata": {},
     "output_type": "execute_result"
    }
   ],
   "source": [
    "# Derivamos x con respecto a t\n",
    "dx = sp.diff(x, t)\n",
    "sp.Eq(sp.diff(sp.Function('x')(t), t), dx, evaluate=False)"
   ],
   "metadata": {
    "collapsed": false,
    "ExecuteTime": {
     "end_time": "2023-11-28T20:55:38.935371682Z",
     "start_time": "2023-11-28T20:55:38.895114482Z"
    }
   },
   "id": "f89b17832430be37"
  },
  {
   "cell_type": "code",
   "execution_count": 44,
   "outputs": [
    {
     "data": {
      "text/plain": "Eq(\\dot{x}, -X*\\dot{Z}/Z**2 + \\dot{X}/Z)",
      "text/latex": "$\\displaystyle \\dot{x} = - \\frac{X \\dot{Z}}{Z^{2}} + \\frac{\\dot{X}}{Z}$"
     },
     "execution_count": 44,
     "metadata": {},
     "output_type": "execute_result"
    }
   ],
   "source": [
    "# Sustituimos las derivadas por los symobolos correspondientes (dot)\n",
    "sp.Eq(\n",
    "    sp.symbols('\\dot{x}'),\n",
    "    dx\n",
    "    .subs(sp.diff(sp.Function('X')(t), t), sp.Symbol('\\dot{X}'))\n",
    "    .subs(sp.diff(sp.Function('Z')(t), t), sp.Symbol('\\dot{Z}'))\n",
    "    .subs(sp.Function('X')(t), sp.Symbol('X'))\n",
    "    .subs(sp.Function('Z')(t), sp.Symbol('Z')),\n",
    "    evaluate=False)"
   ],
   "metadata": {
    "collapsed": false,
    "ExecuteTime": {
     "end_time": "2023-11-28T20:56:04.342107879Z",
     "start_time": "2023-11-28T20:56:04.330745921Z"
    }
   },
   "id": "426a9c489629ea36"
  },
  {
   "cell_type": "code",
   "execution_count": 45,
   "outputs": [
    {
     "data": {
      "text/plain": "Eq(Derivative(x(t), (t, 2)), (-(Derivative(Z(t), (t, 2)) - 2*Derivative(Z(t), t)**2/Z(t))*X(t)/Z(t) + Derivative(X(t), (t, 2)) - 2*Derivative(X(t), t)*Derivative(Z(t), t)/Z(t))/Z(t))",
      "text/latex": "$\\displaystyle \\frac{d^{2}}{d t^{2}} x{\\left(t \\right)} = \\frac{- \\frac{\\left(\\frac{d^{2}}{d t^{2}} Z{\\left(t \\right)} - \\frac{2 \\left(\\frac{d}{d t} Z{\\left(t \\right)}\\right)^{2}}{Z{\\left(t \\right)}}\\right) X{\\left(t \\right)}}{Z{\\left(t \\right)}} + \\frac{d^{2}}{d t^{2}} X{\\left(t \\right)} - \\frac{2 \\frac{d}{d t} X{\\left(t \\right)} \\frac{d}{d t} Z{\\left(t \\right)}}{Z{\\left(t \\right)}}}{Z{\\left(t \\right)}}$"
     },
     "execution_count": 45,
     "metadata": {},
     "output_type": "execute_result"
    }
   ],
   "source": [
    "# Calculamos la segunda derivada de x con respecto a t\n",
    "ddx = sp.diff(x, t, 2)\n",
    "sp.Eq(sp.diff(sp.Function('x')(t), t, 2), ddx, evaluate=False)"
   ],
   "metadata": {
    "collapsed": false,
    "ExecuteTime": {
     "end_time": "2023-11-28T20:56:41.851785637Z",
     "start_time": "2023-11-28T20:56:41.739152872Z"
    }
   },
   "id": "cb8b9c8f03f64b47"
  },
  {
   "cell_type": "code",
   "execution_count": 46,
   "outputs": [
    {
     "data": {
      "text/plain": "Eq(\\ddot{x}, (-X*(\\ddot{Z} - 2*\\dot{Z}**2/Z)/Z + \\ddot{X} - 2*\\dot{X}*\\dot{Z}/Z)/Z)",
      "text/latex": "$\\displaystyle \\ddot{x} = \\frac{- \\frac{X \\left(\\ddot{Z} - \\frac{2 \\dot{Z}^{2}}{Z}\\right)}{Z} + \\ddot{X} - \\frac{2 \\dot{X} \\dot{Z}}{Z}}{Z}$"
     },
     "execution_count": 46,
     "metadata": {},
     "output_type": "execute_result"
    }
   ],
   "source": [
    "# Sustituimos las derivadas por los symobolos correspondientes (dot)\n",
    "sp.Eq(\n",
    "    sp.symbols('\\ddot{x}'),\n",
    "    ddx\n",
    "    .subs(sp.diff(sp.Function('X')(t), t, 2), sp.Symbol('\\ddot{X}'))\n",
    "    .subs(sp.diff(sp.Function('Z')(t), t, 2), sp.Symbol('\\ddot{Z}'))\n",
    "    .subs(sp.diff(sp.Function('X')(t), t), sp.Symbol('\\dot{X}'))\n",
    "    .subs(sp.diff(sp.Function('Z')(t), t), sp.Symbol('\\dot{Z}'))\n",
    "    .subs(sp.Function('X')(t), sp.Symbol('X'))\n",
    "    .subs(sp.Function('Z')(t), sp.Symbol('Z')),\n",
    "    evaluate=False)"
   ],
   "metadata": {
    "collapsed": false,
    "ExecuteTime": {
     "end_time": "2023-11-28T20:57:44.407365285Z",
     "start_time": "2023-11-28T20:57:44.365521655Z"
    }
   },
   "id": "7b8356651c8308fe"
  },
  {
   "cell_type": "code",
   "execution_count": 48,
   "outputs": [
    {
     "name": "stdout",
     "output_type": "stream",
     "text": [
      "(-X*(Zpp - 2*Zp**2/Z)/Z - 2*Xp*Zp/Z + Xpp)/Z\n"
     ]
    }
   ],
   "source": [
    "print(\n",
    "    ddx\n",
    "    .subs(sp.diff(sp.Function('X')(t), t, 2), sp.Symbol('Xpp'))\n",
    "    .subs(sp.diff(sp.Function('Z')(t), t, 2), sp.Symbol('Zpp'))\n",
    "    .subs(sp.diff(sp.Function('X')(t), t), sp.Symbol('Xp'))\n",
    "    .subs(sp.diff(sp.Function('Z')(t), t), sp.Symbol('Zp'))\n",
    "    .subs(sp.Function('X')(t), sp.Symbol('X'))\n",
    "    .subs(sp.Function('Z')(t), sp.Symbol('Z'))\n",
    ")"
   ],
   "metadata": {
    "collapsed": false,
    "ExecuteTime": {
     "end_time": "2023-11-28T21:02:19.116896967Z",
     "start_time": "2023-11-28T21:02:19.070363831Z"
    }
   },
   "id": "49718bd3a2d3b38b"
  },
  {
   "cell_type": "code",
   "execution_count": null,
   "outputs": [],
   "source": [],
   "metadata": {
    "collapsed": false
   },
   "id": "89a3e10df30f5693"
  }
 ],
 "metadata": {
  "kernelspec": {
   "display_name": "Python 3",
   "language": "python",
   "name": "python3"
  },
  "language_info": {
   "codemirror_mode": {
    "name": "ipython",
    "version": 2
   },
   "file_extension": ".py",
   "mimetype": "text/x-python",
   "name": "python",
   "nbconvert_exporter": "python",
   "pygments_lexer": "ipython2",
   "version": "2.7.6"
  }
 },
 "nbformat": 4,
 "nbformat_minor": 5
}
